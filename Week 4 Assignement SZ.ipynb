{
 "cells": [
  {
   "cell_type": "markdown",
   "metadata": {},
   "source": [
    "<center>\n",
    "    <img src=\"https://cf-courses-data.s3.us.cloud-object-storage.appdomain.cloud/IBMDeveloperSkillsNetwork-DS0105EN-SkillsNetwork/labs/Module2/images/SN_web_lightmode.png\" width=\"300\" alt=\"cognitiveclass.ai logo\"  />\n",
    "</center>\n"
   ]
  },
  {
   "cell_type": "markdown",
   "metadata": {
    "tags": []
   },
   "source": [
    "#### Add your code below following the instructions given in the course\n"
   ]
  },
  {
   "cell_type": "markdown",
   "metadata": {},
   "source": [
    "# My Jupiter Notebook on IBM Watson Studio #"
   ]
  },
  {
   "cell_type": "markdown",
   "metadata": {},
   "source": [
    "**Svetlana Zykova**  \n",
    "ADC Ltd - Advanced Dental Care, GM"
   ]
  },
  {
   "cell_type": "markdown",
   "metadata": {},
   "source": [
    "*I am interested in data science because it increases the quality of many fields of human activity. I also find it intriguing to extract knowledge or generate insights from various types of data using various types of methods and techniques.*   "
   ]
  },
  {
   "cell_type": "markdown",
   "metadata": {},
   "source": [
    "### Below is the code for multiplication 7*7 ###"
   ]
  },
  {
   "cell_type": "code",
   "execution_count": 1,
   "metadata": {},
   "outputs": [
    {
     "data": {
      "text/plain": [
       "49"
      ]
     },
     "execution_count": 1,
     "metadata": {},
     "output_type": "execute_result"
    }
   ],
   "source": [
    "7*7"
   ]
  },
  {
   "cell_type": "markdown",
   "metadata": {},
   "source": [
    "**_Garden Flowers_**  \n",
    "_________________________________  \n",
    "\n",
    "1. Rose  \n",
    "2. Iris  \n",
    "3. Peony  \n",
    "\n",
    "**_Colors_**  \n",
    "_________________________________  \n",
    "\n",
    "* White  \n",
    "* Lilac  \n",
    "* Pink  \n",
    "\n",
    "**_Flowers and Colors_**  \n",
    "_________________________________  \n",
    "\n",
    "|**Flower**|**Color**|**QTY**|  \n",
    "|:-------|:-------:|-----:|  \n",
    "|Rose|White|15|\n",
    "|Iris|Lilac|3|  \n",
    "|Peony|White|1|  \n",
    "|Rose|Pink|13|  \n",
    "|Peony|Pink|2|  \n",
    "\n",
    "~~A small garden~~ "
   ]
  },
  {
   "cell_type": "code",
   "execution_count": null,
   "metadata": {},
   "outputs": [],
   "source": []
  }
 ],
 "metadata": {
  "kernelspec": {
   "display_name": "Python",
   "language": "python",
   "name": "conda-env-python-py"
  },
  "language_info": {
   "codemirror_mode": {
    "name": "ipython",
    "version": 3
   },
   "file_extension": ".py",
   "mimetype": "text/x-python",
   "name": "python",
   "nbconvert_exporter": "python",
   "pygments_lexer": "ipython3",
   "version": "3.7.12"
  }
 },
 "nbformat": 4,
 "nbformat_minor": 4
}
